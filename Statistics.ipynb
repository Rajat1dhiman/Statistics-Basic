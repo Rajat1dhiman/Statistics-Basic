{
  "nbformat": 4,
  "nbformat_minor": 0,
  "metadata": {
    "colab": {
      "provenance": []
    },
    "kernelspec": {
      "name": "python3",
      "display_name": "Python 3"
    },
    "language_info": {
      "name": "python"
    }
  },
  "cells": [
    {
      "cell_type": "markdown",
      "source": [
        "##Statistics Basics"
      ],
      "metadata": {
        "id": "PEEMyGfBeBmm"
      }
    },
    {
      "cell_type": "markdown",
      "source": [
        "1. Explain the different types of data(qualitative and quantitative) and provide examples of each. Discuss nominal, ordinal , interval and ratio scales.\n",
        "\n",
        "Ans. **Types of Data**\n",
        "\n",
        "1. **Qualitative Data (Categorical Data):**\n",
        "   * **Definition:** Describes characteristics or qualities; not numerical.\n",
        "   * **Examples:**\n",
        "   * Colors(Red,Green,Blue)\n",
        "   * Gender (Male, Female)\n",
        "   * Nationality (Indian , American etc.)\n",
        "\n",
        "2. **Quantitative Data (Numerical Data):**\n",
        "   * **Definition:** Represents measurable quantities; numerical in nature.\n",
        "   * **Examples:**\n",
        "   * Height(in cm)\n",
        "   * Age (in years)\n",
        "   * Temperature (in degree celcius)\n",
        "\n",
        "\n",
        "### **Levels of Measurement (Scales):**\n",
        "\n",
        "**1. Nominal Scale (Qualitative)**\n",
        "* **Definition:** Categorizes data without any order.\n",
        "\n",
        "* **Examples:** Blood Type (A, B, AB, O), Marital Status (Single, Married)\n",
        "\n",
        "**2. Ordinal Scale (Qualitative)**\n",
        "\n",
        "* **Definition:** Categorizes with a meaningful order, but no fixed interval.\n",
        "\n",
        "* **Examples:** Education Level (High School < Bachelor's < Master's), Movie Ratings (1 star to 5 stars)\n",
        "\n",
        "**3. Interval Scale (Quantitative)**\n",
        "* **Definition:** Numerical scale with equal intervals, but no true zero.\n",
        "\n",
        "* **Examples:** Temperature in Celsius or Fahrenheit, IQ scores\n",
        "\n",
        "**4. Ratio Scale (Quantitative)**\n",
        "\n",
        "* **Definition:** Numerical scale with equal intervals and a true zero.\n",
        "\n",
        "* **Examples:** Weight, Height, Age, Income    "
      ],
      "metadata": {
        "id": "t6zMvamGeFvL"
      }
    },
    {
      "cell_type": "markdown",
      "source": [
        "2. What are the measures of central tendency and when should you use each? Discuss the mean, median and mode with examples and situations where each is appropriate.\n",
        "\n",
        "### **Measures of Central Tendency:**\n",
        "\n",
        "**1. Mean (Average)**\n",
        "* **Definition:** Sum of all values divided by the number of values.\n",
        "\n",
        "* **Example:** Test scores: 70, 80, 90 → Mean = (70+80+90)/3 = 80\n",
        "\n",
        "* **Use When:** Data is numerical and evenly distributed.\n",
        "\n",
        "* **Not Ideal When:** Data contains outliers or is skewed.\n",
        "\n",
        "**2. Median**\n",
        "\n",
        "* **Definition:** Middle value when data is arranged in order.\n",
        "\n",
        "* **Example:** Salaries: $30k, $40k, $1M → Median = $40k\n",
        "\n",
        "* **Use When:** Data is skewed or has outliers.\n",
        "\n",
        "* **Not Ideal When:** Data is symmetric and has no outliers.\n",
        "\n",
        "**3. Mode**\n",
        "\n",
        "* **Definition:** Most frequently occurring value.\n",
        "\n",
        "* **Example:** Shoe sizes: 7, 8, 8, 9, 10 → Mode = 8\n",
        "\n",
        "* **Use When:** Finding the most common category or value.\n",
        "\n",
        "* **Not Ideal When:** All values occur with equal frequency."
      ],
      "metadata": {
        "id": "LKhk_9vqfpu6"
      }
    },
    {
      "cell_type": "markdown",
      "source": [
        "3. Explain the concept of dispersion . How do variance and standard deviation measure the spread of data?\n",
        "\n",
        "Ans. ### **Dispersion:**\n",
        "Dispersion refers to the extent to which data values are spread out or scattered. It helps us understand the variability or consistency in a dataset.\n",
        "\n",
        "**Key Measures of Dispersion:**\n",
        "\n",
        "**1. Variance**\n",
        "\n",
        "* **Definition:** The average of the squared differences from the mean.\n",
        "\n",
        "* **Formula:**\n",
        "![Screenshot 2025-04-07 180451.png](data:image/png;base64,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)\n",
        "\n",
        "* **Use:** Indicates how much each data point differs from the mean.\n",
        "\n",
        "* **Limitation:** The units are squared, which can make interpretation harder.\n"
      ],
      "metadata": {
        "id": "jse_oA0lf_uU"
      }
    },
    {
      "cell_type": "markdown",
      "source": [
        "**2. Standard Deviation**\n",
        "\n",
        "* **Definition:** The square root of the variance.\n",
        "\n",
        "* **Formula:**\n",
        "![Screenshot 2025-04-07 180821.png](data:image/png;base64,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)\n",
        "\n",
        "* **Use:** Provides a more intuitive measure of spread in the same units as the original data.\n",
        "\n",
        "* **Interpretation:** A low standard deviation means data points are close to the mean, while a high standard deviation indicates wide variation.\n",
        "\n"
      ],
      "metadata": {
        "id": "7wd0ZfQxgPxY"
      }
    },
    {
      "cell_type": "markdown",
      "source": [
        "4. What is a box plot, and what can it tell you about the distribution of data?\n",
        "\n",
        "Ans. A box plot (or box-and-whisker plot) is a graphical representation of a dataset’s distribution that shows its minimum, first quartile (Q1), median (Q2), third quartile (Q3), and maximum values.\n",
        "\n",
        "**It reveals:**\n",
        "\n",
        "* **Center:** The median (Q2) indicates the central tendency.\n",
        "\n",
        "* **Spread:** The interquartile range (IQR = Q3 - Q1) shows data variability.\n",
        "\n",
        "* **Skewness:** If the median is closer to Q1 or Q3, it indicates skewness.\n",
        "\n",
        "* **Outliers:** Data points outside the \"whiskers\" (typically 1.5 × IQR from the quartiles) are considered outliers.\n",
        "\n",
        "* **Symmetry:** A centered median and equal whiskers indicate a symmetric distribution"
      ],
      "metadata": {
        "id": "aoJFR7-9eXbT"
      }
    },
    {
      "cell_type": "markdown",
      "source": [
        "5. Discuss the role of random sampling in making inferences about populations.\n",
        "\n",
        "Ans.  Random sampling plays a crucial role in making inferences about populations because it ensures that every individual in the population has an equal chance of being selected. This helps to produce a sample that is representative of the entire population, minimizing bias.\n",
        "\n",
        "**Role and Importance:**\n",
        "\n",
        "* **Reduces bias:** By selecting individuals randomly, we avoid systematic errors.\n",
        "\n",
        "* **Supports generalization:** Results from a well-randomized sample can be generalized to the larger population with a known level of confidence.\n",
        "\n",
        "* **Enables valid statistical inference:** Techniques like confidence intervals and hypothesis testing rely on the assumption that the sample was randomly selected.\n",
        "\n",
        "* **Improves accuracy:** Random sampling increases the likelihood that the sample reflects the diversity and characteristics of the population.\n"
      ],
      "metadata": {
        "id": "6XPLaMG4gkWk"
      }
    },
    {
      "cell_type": "markdown",
      "source": [
        "6. Explain the concept of skewness and its types. How does vskewness affect the interpretation of data?\n",
        "\n",
        "Ans. Skewness is a measure of the asymmetry of a probability distribution or dataset around its mean.\n",
        "\n",
        "**Types of Skewness:**\n",
        "\n",
        "**1.Symmetrical Distribution (Zero Skewness):**\n",
        "\n",
        "* Mean = Median = Mode\n",
        "\n",
        "* The data is evenly distributed on both sides of the mean.\n",
        "\n",
        "* Example: Normal distribution.\n",
        "\n",
        "**2.Positive Skew (Right-Skewed):**\n",
        "\n",
        "* Tail on the right side is longer or fatter.\n",
        "\n",
        "* Mean > Median > Mode\n",
        "\n",
        "* Indicates the presence of higher-value outliers.\n",
        "\n",
        "* Example: Income distribution.\n",
        "\n",
        "**3.Negative Skew (Left-Skewed):**\n",
        "\n",
        "* Tail on the left side is longer or fatter.\n",
        "\n",
        "* Mean < Median < Mode\n",
        "\n",
        "* Indicates the presence of lower-value outliers.\n",
        "\n",
        "* Example: Age at retirement.\n",
        "\n",
        "**How Skewness Affects Interpretation:**\n",
        "\n",
        "* Central tendency measures like the mean may be misleading in skewed distributions.\n",
        "\n",
        "* It helps in choosing appropriate statistical methods; for example, median is preferred over mean for highly skewed data.\n",
        "\n",
        "* Skewness indicates potential outliers or unusual data patterns.\n",
        "\n",
        "* In predictive modeling, skewed features may require transformation (e.g., log transformation) to improve performance."
      ],
      "metadata": {
        "id": "K4pojx2mgwqP"
      }
    },
    {
      "cell_type": "markdown",
      "source": [
        "7. What is the interquartile range (IQR), and how is it used to detect outliers?\n",
        "\n",
        "Ans.  The Interquartile Range (IQR) is a measure of statistical dispersion, or how spread out the data is. It represents the range between the first quartile (Q1) and the third quartile (Q3):\n",
        "\n",
        "  **IQR=Q3−Q1**\n",
        "\n",
        "* **Q1 (25th percentile):** 25% of the data lies below this value\n",
        "\n",
        "* **Q3 (75th percentile):** 75% of the data lies below this value\n",
        "\n",
        "\n",
        "**How IQR is Used to Detect Outliers:**\n",
        "\n",
        "Outliers are data points that fall significantly outside the typical range of the dataset. Using IQR:\n",
        "\n",
        "* **Lower Bound** = Q1 − 1.5 × IQR\n",
        "\n",
        "* **Upper Bound** = Q3 + 1.5 × IQR\n",
        "\n",
        "Any data point:\n",
        "\n",
        "* **< Lower Bound**  or\n",
        "\n",
        "* **> Upper Bound** is considered an outlier.\n",
        "\n",
        "\n",
        "\n",
        "**Example:**\n",
        "If Q1 = 20 and Q3 = 40:\n",
        "* IQR = 40 − 20 = 20\n",
        "\n",
        "* Lower Bound = 20 − 1.5×20 = −10\n",
        "\n",
        "* Upper Bound = 40 + 1.5×20 = 70"
      ],
      "metadata": {
        "id": "Xgzrhi5Lg-FC"
      }
    },
    {
      "cell_type": "markdown",
      "source": [
        "8. Discuss the conditions under which the binomial distribution is used.\n",
        "\n",
        "Ans. The binomial distribution is used when the following four key conditions are met:\n",
        "\n",
        "**1. Fixed Number of Trials (n):**\n",
        "\n",
        "There must be a fixed number of independent trials or experiments.\n",
        "\n",
        "**Example:** Tossing a coin 10 times (n = 10).\n",
        "\n",
        "**2. Only Two Possible Outcomes per Trial:**\n",
        "Each trial results in just two possible outcomes:\n",
        "\n",
        "* **Success** (e.g., heads, correct answer)\n",
        "\n",
        "* **Failure** (e.g., tails, incorrect answer)\n",
        "\n",
        "**3. Constant Probability of Success (p):**\n",
        "The probability of success remains the same for each trial.\n",
        "\n",
        "**Example:** In a fair coin toss, p(heads) = 0.5 for every toss.\n",
        "\n",
        "**4. Independent Trials:**\n",
        "\n",
        "Each trial is independent—the outcome of one trial doesn't affect the others.\n",
        "\n",
        "**Typical Examples Where Binomial Distribution Applies:**\n",
        "* Number of heads in 20 coin tosses\n",
        "\n",
        "* Number of students passing an exam out of 30, where each has a 70% chance\n",
        "\n",
        "* Defective items in a batch of 100 products with a 5% defect rate"
      ],
      "metadata": {
        "id": "uN_rHXPFhQNx"
      }
    },
    {
      "cell_type": "markdown",
      "source": [
        "9. Explain the properties of the normal distribution and the empirical rule (68-95-99.7 rule).\n",
        "\n",
        "Ans. **Normal Distribution: Properties**\n",
        "\n",
        "1. Bell-shaped curve – Symmetrical around the mean.\n",
        "\n",
        "2. Mean = Median = Mode – All located at the center.\n",
        "\n",
        "3. Asymptotic – The tails approach the x-axis but never touch it.\n",
        "\n",
        "4. Defined by two parameters – Mean (μ) and Standard Deviation (σ).\n",
        "\n",
        "5. Total area under the curve = 1 – Represents total probability.\n",
        "\n",
        "**Empirical Rule (68-95-99.7 Rule)**\n",
        "For a normal distribution:\n",
        "1. 68% of the data falls within 1 standard deviation (μ ± 1σ)\n",
        "\n",
        "2. 95% falls within 2 standard deviations (μ ± 2σ)\n",
        "\n",
        "3. 99.7% falls within 3 standard deviations (μ ± 3σ)"
      ],
      "metadata": {
        "id": "sJg8d-JNhZS0"
      }
    },
    {
      "cell_type": "markdown",
      "source": [
        "10. Provide a real-life example of a Poisson process and calculate the probability for a specific event.\n",
        "\n",
        "Ans.  #### **Real-Life Example of a Poisson Process**\n",
        "Scenario: A customer service center receives an average of 3 calls per minute. We want to calculate the probability of receiving exactly 5 calls in one minute.\n",
        "\n",
        "**Poisson Formula:**\n",
        "![Screenshot 2025-04-07 202212.png](data:image/png;base64,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)\n",
        "\n",
        "Where:\n",
        "* λ=3 (average number of events per interval)\n",
        "\n",
        "* 𝑘=5(number of events we're interested in)\n",
        "\n",
        "* e≈2.718"
      ],
      "metadata": {
        "id": "fDmkgpTehoNC"
      }
    },
    {
      "cell_type": "markdown",
      "source": [
        "### **Calculation:**\n",
        "\n",
        "![Screenshot 2025-04-07 202212.png](data:image/png;base64,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)\n",
        "\n",
        "**Result:**\n",
        "\n",
        "The probability of receiving exactly 5 calls in one minute is approximately 0.101 or 10.1%."
      ],
      "metadata": {
        "id": "j71LMxSEh2vl"
      }
    },
    {
      "cell_type": "markdown",
      "source": [
        "11. Explain what a random variable is and differentiate between discrete and continous random variables.\n",
        "\n",
        "Ans.  A random variable is a numerical outcome of a random phenomenon. It assigns a real number to each outcome in a sample space.\n",
        "\n",
        "###**Types of Random Variables:**\n",
        "**1. Discrete Random Variable:**\n",
        "\n",
        "* Takes on countable values (finite or countably infinite).\n",
        "\n",
        "* **Examples:**\n",
        "\n",
        " * Number of heads in 5 coin tosses.\n",
        "\n",
        " * Number of students in a classroom.\n",
        "\n",
        " * Number of emails received in an hour.\n",
        "\n",
        "**2. Continuous Random Variable:**\n",
        "\n",
        "* Takes on uncountable/infinite values within a range.\n",
        "\n",
        "* Measured rather than counted.\n",
        "\n",
        "* Examples:\n",
        "\n",
        " * Temperature in a city.\n",
        "\n",
        " * Height of students.\n",
        "\n",
        " * Time taken to complete a task.\n",
        "\n",
        "**Difference:**\n",
        "* **Discrete:** Countable outcomes (e.g., 0, 1, 2, …)\n",
        "\n",
        "* **Continuous:** Infinite outcomes in an interval (e.g., 1.25, 1.251, 1.2511, …)"
      ],
      "metadata": {
        "id": "sqcVKrErh6Kc"
      }
    }
  ]
}